{
  "nbformat": 4,
  "nbformat_minor": 0,
  "metadata": {
    "colab": {
      "name": "Downloading Kaggle dataset.ipynb",
      "version": "0.3.2",
      "provenance": [],
      "collapsed_sections": [],
      "toc_visible": true,
      "include_colab_link": true
    },
    "kernelspec": {
      "name": "python3",
      "display_name": "Python 3"
    },
    "accelerator": "GPU"
  },
  "cells": [
    {
      "cell_type": "markdown",
      "metadata": {
        "id": "view-in-github",
        "colab_type": "text"
      },
      "source": [
        "<a href=\"https://colab.research.google.com/github/zhoukiller/Andrew-Ng-Deep-Learning-notes/blob/master/Downloading_Kaggle_dataset.ipynb\" target=\"_parent\"><img src=\"https://colab.research.google.com/assets/colab-badge.svg\" alt=\"Open In Colab\"/></a>"
      ]
    },
    {
      "metadata": {
        "id": "v2YpSYZFQYkZ",
        "colab_type": "code",
        "outputId": "b35661c6-63a6-4720-d04f-37960fc56ffb",
        "colab": {
          "resources": {
            "http://localhost:8080/nbextensions/google.colab/files.js": {
              "data": "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",
              "ok": true,
              "headers": [
                [
                  "content-type",
                  "application/javascript"
                ]
              ],
              "status": 200,
              "status_text": ""
            }
          },
          "base_uri": "https://localhost:8080/",
          "height": 94
        }
      },
      "cell_type": "code",
      "source": [
        "from google.colab import files\n",
        "files.upload()"
      ],
      "execution_count": 1,
      "outputs": [
        {
          "output_type": "display_data",
          "data": {
            "text/html": [
              "\n",
              "     <input type=\"file\" id=\"files-620cfa33-13ba-4baf-9976-b23b66b4fc3f\" name=\"files[]\" multiple disabled />\n",
              "     <output id=\"result-620cfa33-13ba-4baf-9976-b23b66b4fc3f\">\n",
              "      Upload widget is only available when the cell has been executed in the\n",
              "      current browser session. Please rerun this cell to enable.\n",
              "      </output>\n",
              "      <script src=\"/nbextensions/google.colab/files.js\"></script> "
            ],
            "text/plain": [
              "<IPython.core.display.HTML object>"
            ]
          },
          "metadata": {
            "tags": []
          }
        },
        {
          "output_type": "stream",
          "text": [
            "Saving kaggle.json to kaggle.json\n"
          ],
          "name": "stdout"
        },
        {
          "output_type": "execute_result",
          "data": {
            "text/plain": [
              "{'kaggle.json': b'{\"username\":\"blackhorseman\",\"key\":\"218f85680a49e804a2c0aa29ecb38c86\"}'}"
            ]
          },
          "metadata": {
            "tags": []
          },
          "execution_count": 1
        }
      ]
    },
    {
      "metadata": {
        "id": "1I1W1hu0Rfdu",
        "colab_type": "code",
        "outputId": "f02f8653-81c2-4024-8a39-48a528704bcb",
        "colab": {
          "base_uri": "https://localhost:8080/",
          "height": 118
        }
      },
      "cell_type": "code",
      "source": [
        "!ls -al"
      ],
      "execution_count": 2,
      "outputs": [
        {
          "output_type": "stream",
          "text": [
            "total 20\n",
            "drwxr-xr-x 1 root root 4096 Feb 24 15:57 .\n",
            "drwxr-xr-x 1 root root 4096 Feb 24 15:55 ..\n",
            "drwxr-xr-x 4 root root 4096 Feb 15 17:21 .config\n",
            "-rw-r--r-- 1 root root   69 Feb 24 15:57 kaggle.json\n",
            "drwxr-xr-x 1 root root 4096 Feb 15 17:21 sample_data\n"
          ],
          "name": "stdout"
        }
      ]
    },
    {
      "metadata": {
        "id": "F2dxH_uTRojo",
        "colab_type": "code",
        "outputId": "1b6e9114-135b-40ba-abe1-78175ab6e20b",
        "colab": {
          "base_uri": "https://localhost:8080/",
          "height": 34
        }
      },
      "cell_type": "code",
      "source": [
        "!mkdir -p ~/.kaggle\n",
        "!cp kaggle.json ~/.kaggle/\n",
        "!chmod 600 ~/.kaggle/kaggle.json\n",
        "!ls ~/.kaggle"
      ],
      "execution_count": 3,
      "outputs": [
        {
          "output_type": "stream",
          "text": [
            "kaggle.json\n"
          ],
          "name": "stdout"
        }
      ]
    },
    {
      "metadata": {
        "id": "PAnLPFK1R0Im",
        "colab_type": "code",
        "outputId": "3da94b64-f042-484f-b50a-d6facf8781b8",
        "colab": {
          "base_uri": "https://localhost:8080/",
          "height": 67
        }
      },
      "cell_type": "code",
      "source": [
        "!ls -l ~/.kaggle\n",
        "!cat ~/.kaggle/kaggle.json"
      ],
      "execution_count": 4,
      "outputs": [
        {
          "output_type": "stream",
          "text": [
            "total 4\n",
            "-rw------- 1 root root 69 Feb 24 15:58 kaggle.json\n",
            "{\"username\":\"blackhorseman\",\"key\":\"218f85680a49e804a2c0aa29ecb38c86\"}"
          ],
          "name": "stdout"
        }
      ]
    },
    {
      "metadata": {
        "id": "_6QKxnoiR7H9",
        "colab_type": "code",
        "outputId": "d2340c44-972e-4f15-d2d3-00d447a4751d",
        "colab": {
          "base_uri": "https://localhost:8080/",
          "height": 134
        }
      },
      "cell_type": "code",
      "source": [
        "!pip install -q kaggle\n",
        "!pip install -q kaggle-cli"
      ],
      "execution_count": 5,
      "outputs": [
        {
          "output_type": "stream",
          "text": [
            "\u001b[K    100% |████████████████████████████████| 81kB 6.8MB/s \n",
            "\u001b[K    100% |████████████████████████████████| 5.3MB 6.5MB/s \n",
            "\u001b[K    100% |████████████████████████████████| 92kB 25.5MB/s \n",
            "\u001b[K    100% |████████████████████████████████| 51kB 20.5MB/s \n",
            "\u001b[?25h  Building wheel for kaggle-cli (setup.py) ... \u001b[?25ldone\n",
            "\u001b[?25h  Building wheel for cliff (setup.py) ... \u001b[?25ldone\n",
            "\u001b[?25h  Building wheel for pyperclip (setup.py) ... \u001b[?25ldone\n",
            "\u001b[?25h"
          ],
          "name": "stdout"
        }
      ]
    },
    {
      "metadata": {
        "id": "nynJZR4DSCS9",
        "colab_type": "code",
        "colab": {}
      },
      "cell_type": "code",
      "source": [
        "!kaggle datasets list"
      ],
      "execution_count": 0,
      "outputs": []
    },
    {
      "metadata": {
        "id": "OIeZrA2jSONN",
        "colab_type": "code",
        "colab": {}
      },
      "cell_type": "code",
      "source": [
        "!kaggle competitions list"
      ],
      "execution_count": 0,
      "outputs": []
    },
    {
      "metadata": {
        "id": "B2hOWXlfSj6n",
        "colab_type": "code",
        "colab": {
          "base_uri": "https://localhost:8080/",
          "height": 168
        },
        "outputId": "ff206ade-1578-4f23-951f-9bbfad64aa20"
      },
      "cell_type": "code",
      "source": [
        "!kaggle competitions download -c dogs-vs-cats"
      ],
      "execution_count": 6,
      "outputs": [
        {
          "output_type": "stream",
          "text": [
            "Downloading sampleSubmission.csv to /content\n",
            "\r  0% 0.00/86.8k [00:00<?, ?B/s]\n",
            "100% 86.8k/86.8k [00:00<00:00, 32.5MB/s]\n",
            "Downloading test1.zip to /content\n",
            " 96% 261M/271M [00:02<00:00, 130MB/s]\n",
            "100% 271M/271M [00:02<00:00, 115MB/s]\n",
            "Downloading train.zip to /content\n",
            " 98% 534M/543M [00:03<00:00, 200MB/s]\n",
            "100% 543M/543M [00:03<00:00, 159MB/s]\n"
          ],
          "name": "stdout"
        }
      ]
    },
    {
      "metadata": {
        "id": "q8hzuO5uTnZw",
        "colab_type": "code",
        "colab": {}
      },
      "cell_type": "code",
      "source": [
        "!zipinfo -l test1.zip"
      ],
      "execution_count": 0,
      "outputs": []
    },
    {
      "metadata": {
        "id": "OYx4RZ2zPDQj",
        "colab_type": "code",
        "colab": {}
      },
      "cell_type": "code",
      "source": [
        "!mkdir tmp"
      ],
      "execution_count": 0,
      "outputs": []
    },
    {
      "metadata": {
        "id": "Ss7jbHyIVcN6",
        "colab_type": "code",
        "colab": {}
      },
      "cell_type": "code",
      "source": [
        "!unzip -n train.zip -d tmp/"
      ],
      "execution_count": 0,
      "outputs": []
    },
    {
      "metadata": {
        "id": "ZYQ_91zRPiPB",
        "colab_type": "code",
        "colab": {}
      },
      "cell_type": "code",
      "source": [
        "!mkdir datasets"
      ],
      "execution_count": 0,
      "outputs": []
    },
    {
      "metadata": {
        "id": "upqp2d9ZPpGe",
        "colab_type": "code",
        "colab": {}
      },
      "cell_type": "code",
      "source": [
        "!mkdir datasets/cats_and_dogs_small"
      ],
      "execution_count": 0,
      "outputs": []
    },
    {
      "metadata": {
        "id": "9Z3n9_KDWU3S",
        "colab_type": "text"
      },
      "cell_type": "markdown",
      "source": [
        "# Cats and dogs"
      ]
    },
    {
      "metadata": {
        "id": "1DDCKFpSG2us",
        "colab_type": "text"
      },
      "cell_type": "markdown",
      "source": [
        "## specify dirs of images"
      ]
    },
    {
      "metadata": {
        "id": "YIokqmxEWaXT",
        "colab_type": "code",
        "colab": {}
      },
      "cell_type": "code",
      "source": [
        "train_origin = \"tmp/train\""
      ],
      "execution_count": 0,
      "outputs": []
    },
    {
      "metadata": {
        "id": "A1OexAaOcKN7",
        "colab_type": "code",
        "colab": {}
      },
      "cell_type": "code",
      "source": [
        "base_dir = \"datasets/cats_and_dogs_small\""
      ],
      "execution_count": 0,
      "outputs": []
    },
    {
      "metadata": {
        "id": "p2gsPXaucbT5",
        "colab_type": "code",
        "colab": {}
      },
      "cell_type": "code",
      "source": [
        "import os,shutil"
      ],
      "execution_count": 0,
      "outputs": []
    },
    {
      "metadata": {
        "id": "YjQHauMd0sai",
        "colab_type": "code",
        "colab": {}
      },
      "cell_type": "code",
      "source": [
        "train_dir = os.path.join(base_dir,\"train\")\n",
        "os.mkdir(train_dir)\n",
        "\n",
        "test_dir = os.path.join(base_dir,\"test\")\n",
        "os.mkdir(test_dir)\n",
        "\n",
        "validation_dir = os.path.join(base_dir,\"validation\")\n",
        "os.mkdir(validation_dir)"
      ],
      "execution_count": 0,
      "outputs": []
    },
    {
      "metadata": {
        "id": "O_QK7rAx4Z8j",
        "colab_type": "code",
        "colab": {}
      },
      "cell_type": "code",
      "source": [
        "train_dog_dir = os.path.join(train_dir,\"dogs\")\n",
        "train_cat_dir = os.path.join(train_dir,\"cats\")\n",
        "os.mkdir(train_dog_dir)\n",
        "os.mkdir(train_cat_dir)\n",
        "\n",
        "test_dog_dir = os.path.join(test_dir,\"dogs\")\n",
        "test_cat_dir = os.path.join(test_dir,\"cats\")\n",
        "os.mkdir(test_dog_dir)\n",
        "os.mkdir(test_cat_dir)\n",
        "\n",
        "validation_dog_dir = os.path.join(validation_dir,\"dogs\")\n",
        "validation_cat_dir = os.path.join(validation_dir,\"cats\")\n",
        "os.mkdir(validation_dog_dir)\n",
        "os.mkdir(validation_cat_dir)"
      ],
      "execution_count": 0,
      "outputs": []
    },
    {
      "metadata": {
        "id": "v3C9Sf3TGtsS",
        "colab_type": "text"
      },
      "cell_type": "markdown",
      "source": [
        "## copy files to corresponding dir"
      ]
    },
    {
      "metadata": {
        "id": "uvto8Pmd_VFr",
        "colab_type": "code",
        "colab": {}
      },
      "cell_type": "code",
      "source": [
        "def copy_files(src_dir,dest_dir,category,ranges):\n",
        "  start,end = ranges\n",
        "  print(start,end)\n",
        "  frames = [category + \".{}.jpg\".format(i) for i in range(start,end)]\n",
        "  for frame in frames:\n",
        "    src = os.path.join(src_dir,frame)\n",
        "    dst = os.path.join(dest_dir,frame)\n",
        "    shutil.copyfile(src,dst)\n",
        "#       print(os.path.join(src_dir,frame))\n",
        "#       print(os.path.join(dest_dir,frame))"
      ],
      "execution_count": 0,
      "outputs": []
    },
    {
      "metadata": {
        "id": "XhGwz_8M72Ok",
        "colab_type": "code",
        "colab": {}
      },
      "cell_type": "code",
      "source": [
        "!ls -l datasets/cats_and_dogs_small/train/dogs"
      ],
      "execution_count": 0,
      "outputs": []
    },
    {
      "metadata": {
        "id": "5p2ErgyEF_8u",
        "colab_type": "code",
        "colab": {
          "base_uri": "https://localhost:8080/",
          "height": 34
        },
        "outputId": "98e998f2-e94f-4a40-8b04-04bacbb1d6e8"
      },
      "cell_type": "code",
      "source": [
        "copy_files(train_origin,train_cat_dir,\"cat\",(0,1000))"
      ],
      "execution_count": 20,
      "outputs": [
        {
          "output_type": "stream",
          "text": [
            "0 1000\n"
          ],
          "name": "stdout"
        }
      ]
    },
    {
      "metadata": {
        "id": "rfKPdcD28swQ",
        "colab_type": "code",
        "colab": {
          "base_uri": "https://localhost:8080/",
          "height": 34
        },
        "outputId": "29e246be-08ee-42b8-944f-7840364842ca"
      },
      "cell_type": "code",
      "source": [
        "copy_files(train_origin,validation_cat_dir,\"cat\",(1000,1500))"
      ],
      "execution_count": 21,
      "outputs": [
        {
          "output_type": "stream",
          "text": [
            "1000 1500\n"
          ],
          "name": "stdout"
        }
      ]
    },
    {
      "metadata": {
        "id": "21QF0UaO_QIT",
        "colab_type": "code",
        "colab": {
          "base_uri": "https://localhost:8080/",
          "height": 34
        },
        "outputId": "b3722e19-84a8-44f8-d208-5f37a28d419b"
      },
      "cell_type": "code",
      "source": [
        "copy_files(train_origin,test_cat_dir,\"cat\",(1500,2000))"
      ],
      "execution_count": 22,
      "outputs": [
        {
          "output_type": "stream",
          "text": [
            "1500 2000\n"
          ],
          "name": "stdout"
        }
      ]
    },
    {
      "metadata": {
        "id": "dSCE4F1aFDdy",
        "colab_type": "code",
        "colab": {
          "base_uri": "https://localhost:8080/",
          "height": 34
        },
        "outputId": "ca206726-2fa3-4868-a3fd-d35e8366f2b5"
      },
      "cell_type": "code",
      "source": [
        "copy_files(train_origin,train_dog_dir,\"dog\",(0,1000))"
      ],
      "execution_count": 23,
      "outputs": [
        {
          "output_type": "stream",
          "text": [
            "0 1000\n"
          ],
          "name": "stdout"
        }
      ]
    },
    {
      "metadata": {
        "id": "dZd2m2F1FM-L",
        "colab_type": "code",
        "colab": {
          "base_uri": "https://localhost:8080/",
          "height": 34
        },
        "outputId": "b1e464a1-7c0d-42a4-b189-3bf394a810d3"
      },
      "cell_type": "code",
      "source": [
        "copy_files(train_origin,validation_dog_dir,\"dog\",(1000,1500))"
      ],
      "execution_count": 24,
      "outputs": [
        {
          "output_type": "stream",
          "text": [
            "1000 1500\n"
          ],
          "name": "stdout"
        }
      ]
    },
    {
      "metadata": {
        "id": "aHoYN4brFalh",
        "colab_type": "code",
        "colab": {
          "base_uri": "https://localhost:8080/",
          "height": 34
        },
        "outputId": "0fcdd67f-bcb1-4bca-f681-02e048df87f1"
      },
      "cell_type": "code",
      "source": [
        "copy_files(train_origin,test_dog_dir,\"dog\",(1500,2000))"
      ],
      "execution_count": 25,
      "outputs": [
        {
          "output_type": "stream",
          "text": [
            "1500 2000\n"
          ],
          "name": "stdout"
        }
      ]
    },
    {
      "metadata": {
        "id": "IUAEbIm9Hit2",
        "colab_type": "text"
      },
      "cell_type": "markdown",
      "source": [
        "## check copy"
      ]
    },
    {
      "metadata": {
        "id": "9eh2fIXHHLqF",
        "colab_type": "code",
        "colab": {
          "base_uri": "https://localhost:8080/",
          "height": 34
        },
        "outputId": "495faaf6-ba28-455b-bfac-1193455ac230"
      },
      "cell_type": "code",
      "source": [
        "print(\"total training cat images:\",len(os.listdir(train_cat_dir)))"
      ],
      "execution_count": 32,
      "outputs": [
        {
          "output_type": "stream",
          "text": [
            "total training cat images: 1000\n"
          ],
          "name": "stdout"
        }
      ]
    },
    {
      "metadata": {
        "id": "rigmkUFAHYga",
        "colab_type": "code",
        "colab": {
          "base_uri": "https://localhost:8080/",
          "height": 34
        },
        "outputId": "9ec8985b-8840-4e54-f80b-29f98b64d4e9"
      },
      "cell_type": "code",
      "source": [
        "print(\"total training dog images:\",len(os.listdir(train_dog_dir)))"
      ],
      "execution_count": 33,
      "outputs": [
        {
          "output_type": "stream",
          "text": [
            "total training dog images: 1000\n"
          ],
          "name": "stdout"
        }
      ]
    },
    {
      "metadata": {
        "id": "cVwNR2PYHgsa",
        "colab_type": "code",
        "colab": {
          "base_uri": "https://localhost:8080/",
          "height": 34
        },
        "outputId": "81c8a7e6-19f6-4bca-9b6a-671df59cd2a3"
      },
      "cell_type": "code",
      "source": [
        "print(\"total validation cat images:\",len(os.listdir(validation_cat_dir)))"
      ],
      "execution_count": 34,
      "outputs": [
        {
          "output_type": "stream",
          "text": [
            "total validation cat images: 500\n"
          ],
          "name": "stdout"
        }
      ]
    },
    {
      "metadata": {
        "id": "vK8uR_S2H1Ha",
        "colab_type": "code",
        "colab": {
          "base_uri": "https://localhost:8080/",
          "height": 34
        },
        "outputId": "9eff71eb-f3ac-4147-d583-907ac32d4011"
      },
      "cell_type": "code",
      "source": [
        "print(\"total validation dog images:\",len(os.listdir(validation_dog_dir)))"
      ],
      "execution_count": 35,
      "outputs": [
        {
          "output_type": "stream",
          "text": [
            "total validation dog images: 500\n"
          ],
          "name": "stdout"
        }
      ]
    },
    {
      "metadata": {
        "id": "eKjRnW0cH7BJ",
        "colab_type": "code",
        "colab": {
          "base_uri": "https://localhost:8080/",
          "height": 34
        },
        "outputId": "f795e488-adec-4abc-916c-1d4016394039"
      },
      "cell_type": "code",
      "source": [
        "print(\"total test cat images:\",len(os.listdir(test_cat_dir)))"
      ],
      "execution_count": 36,
      "outputs": [
        {
          "output_type": "stream",
          "text": [
            "total test cat images: 500\n"
          ],
          "name": "stdout"
        }
      ]
    },
    {
      "metadata": {
        "id": "TL-XPvxzIC-S",
        "colab_type": "code",
        "colab": {
          "base_uri": "https://localhost:8080/",
          "height": 34
        },
        "outputId": "a651ae64-51be-4ee2-ffbc-af3aa92aa627"
      },
      "cell_type": "code",
      "source": [
        "print(\"total test dog images:\",len(os.listdir(test_dog_dir)))"
      ],
      "execution_count": 37,
      "outputs": [
        {
          "output_type": "stream",
          "text": [
            "total test dog images: 500\n"
          ],
          "name": "stdout"
        }
      ]
    },
    {
      "metadata": {
        "id": "RNGv3MJGHEu0",
        "colab_type": "text"
      },
      "cell_type": "markdown",
      "source": [
        "## build the model"
      ]
    },
    {
      "metadata": {
        "id": "xyvY4LU0IIsF",
        "colab_type": "code",
        "colab": {}
      },
      "cell_type": "code",
      "source": [
        "import tensorflow as tf\n",
        "from tensorflow.keras import layers\n",
        "from tensorflow.keras import models"
      ],
      "execution_count": 0,
      "outputs": []
    },
    {
      "metadata": {
        "id": "lQTq2VtqIjJu",
        "colab_type": "code",
        "colab": {}
      },
      "cell_type": "code",
      "source": [
        "Conv2D = layers.Conv2D\n",
        "MaxPooling2D = layers.MaxPooling2D\n",
        "Flatten = layers.Flatten\n",
        "Dense = layers.Dense"
      ],
      "execution_count": 0,
      "outputs": []
    },
    {
      "metadata": {
        "id": "R7p9CxXFIYjm",
        "colab_type": "code",
        "colab": {
          "base_uri": "https://localhost:8080/",
          "height": 87
        },
        "outputId": "1bf33a8d-c171-41cd-e7e2-158e261ede1d"
      },
      "cell_type": "code",
      "source": [
        "model = models.Sequential()\n",
        "model.add(Conv2D(32,(3,3),activation=\"relu\",input_shape = (150,150,3)))\n",
        "model.add(MaxPooling2D((2,2)))\n",
        "model.add(Conv2D(64,(3,3),activation=\"relu\"))\n",
        "model.add(MaxPooling2D((2,2)))\n",
        "model.add(Conv2D(128,(3,3),activation=\"relu\"))\n",
        "model.add(MaxPooling2D((2,2)))\n",
        "model.add(Conv2D(128,(3,3),activation=\"relu\"))\n",
        "model.add(MaxPooling2D((2,2)))\n",
        "model.add(Flatten())\n",
        "model.add(Dense(512,activation=\"relu\"))\n",
        "model.add(Dense(1,activation=\"sigmoid\"))"
      ],
      "execution_count": 40,
      "outputs": [
        {
          "output_type": "stream",
          "text": [
            "WARNING:tensorflow:From /usr/local/lib/python3.6/dist-packages/tensorflow/python/ops/resource_variable_ops.py:435: colocate_with (from tensorflow.python.framework.ops) is deprecated and will be removed in a future version.\n",
            "Instructions for updating:\n",
            "Colocations handled automatically by placer.\n"
          ],
          "name": "stdout"
        }
      ]
    },
    {
      "metadata": {
        "id": "dIVKDBTzKCTs",
        "colab_type": "code",
        "colab": {
          "base_uri": "https://localhost:8080/",
          "height": 504
        },
        "outputId": "f02dffdc-7512-4e01-cfe9-ca451ad98e6e"
      },
      "cell_type": "code",
      "source": [
        "model.summary()"
      ],
      "execution_count": 41,
      "outputs": [
        {
          "output_type": "stream",
          "text": [
            "_________________________________________________________________\n",
            "Layer (type)                 Output Shape              Param #   \n",
            "=================================================================\n",
            "conv2d (Conv2D)              (None, 148, 148, 32)      896       \n",
            "_________________________________________________________________\n",
            "max_pooling2d (MaxPooling2D) (None, 74, 74, 32)        0         \n",
            "_________________________________________________________________\n",
            "conv2d_1 (Conv2D)            (None, 72, 72, 64)        18496     \n",
            "_________________________________________________________________\n",
            "max_pooling2d_1 (MaxPooling2 (None, 36, 36, 64)        0         \n",
            "_________________________________________________________________\n",
            "conv2d_2 (Conv2D)            (None, 34, 34, 128)       73856     \n",
            "_________________________________________________________________\n",
            "max_pooling2d_2 (MaxPooling2 (None, 17, 17, 128)       0         \n",
            "_________________________________________________________________\n",
            "conv2d_3 (Conv2D)            (None, 15, 15, 128)       147584    \n",
            "_________________________________________________________________\n",
            "max_pooling2d_3 (MaxPooling2 (None, 7, 7, 128)         0         \n",
            "_________________________________________________________________\n",
            "flatten (Flatten)            (None, 6272)              0         \n",
            "_________________________________________________________________\n",
            "dense (Dense)                (None, 512)               3211776   \n",
            "_________________________________________________________________\n",
            "dense_1 (Dense)              (None, 1)                 513       \n",
            "=================================================================\n",
            "Total params: 3,453,121\n",
            "Trainable params: 3,453,121\n",
            "Non-trainable params: 0\n",
            "_________________________________________________________________\n"
          ],
          "name": "stdout"
        }
      ]
    },
    {
      "metadata": {
        "id": "aUuRC353KLNn",
        "colab_type": "code",
        "colab": {}
      },
      "cell_type": "code",
      "source": [
        "from tensorflow.keras import optimizers"
      ],
      "execution_count": 0,
      "outputs": []
    },
    {
      "metadata": {
        "id": "CrAlIfpiKicS",
        "colab_type": "code",
        "colab": {}
      },
      "cell_type": "code",
      "source": [
        "model.compile(loss=\"binary_crossentropy\",\n",
        "             optimizer = optimizers.RMSprop(lr=1e-4),\n",
        "             metrics = [\"accuracy\"])"
      ],
      "execution_count": 0,
      "outputs": []
    },
    {
      "metadata": {
        "id": "-Rvh7GEHLP_7",
        "colab_type": "code",
        "colab": {}
      },
      "cell_type": "code",
      "source": [
        "from tensorflow.keras.preprocessing.image import ImageDataGenerator"
      ],
      "execution_count": 0,
      "outputs": []
    },
    {
      "metadata": {
        "id": "zcmhBvu2LvHF",
        "colab_type": "code",
        "colab": {}
      },
      "cell_type": "code",
      "source": [
        "train_datagen = ImageDataGenerator(rescale=1./255)\n",
        "test_datagen = ImageDataGenerator(rescale=1./255)"
      ],
      "execution_count": 0,
      "outputs": []
    },
    {
      "metadata": {
        "id": "REzw2_B2MNSl",
        "colab_type": "code",
        "colab": {
          "base_uri": "https://localhost:8080/",
          "height": 34
        },
        "outputId": "f022ced5-6f01-4573-b144-ae032cfdd09d"
      },
      "cell_type": "code",
      "source": [
        "train_generator = train_datagen.flow_from_directory(\n",
        "          train_dir,\n",
        "          target_size=(150,150),\n",
        "          batch_size=20,\n",
        "          class_mode=\"binary\")"
      ],
      "execution_count": 46,
      "outputs": [
        {
          "output_type": "stream",
          "text": [
            "Found 2000 images belonging to 2 classes.\n"
          ],
          "name": "stdout"
        }
      ]
    },
    {
      "metadata": {
        "id": "T9p9DAo2MwRg",
        "colab_type": "code",
        "colab": {
          "base_uri": "https://localhost:8080/",
          "height": 34
        },
        "outputId": "ed5228de-7ea9-455a-cf7d-346cfde1f5ad"
      },
      "cell_type": "code",
      "source": [
        "validation_generator = train_datagen.flow_from_directory(\n",
        "          validation_dir,\n",
        "          target_size=(150,150),\n",
        "          batch_size=20,\n",
        "          class_mode=\"binary\")"
      ],
      "execution_count": 47,
      "outputs": [
        {
          "output_type": "stream",
          "text": [
            "Found 1000 images belonging to 2 classes.\n"
          ],
          "name": "stdout"
        }
      ]
    },
    {
      "metadata": {
        "id": "eSJMbK0FNBHq",
        "colab_type": "code",
        "colab": {
          "base_uri": "https://localhost:8080/",
          "height": 50
        },
        "outputId": "9bedabef-6710-4ed3-c56d-1d17e6a8514c"
      },
      "cell_type": "code",
      "source": [
        "for data_batch, labels_batch in train_generator:\n",
        "    print(\"data batch shape:\",data_batch.shape)\n",
        "    print(\"labels batch shape:\",labels_batch.shape)\n",
        "    break"
      ],
      "execution_count": 48,
      "outputs": [
        {
          "output_type": "stream",
          "text": [
            "data batch shape: (20, 150, 150, 3)\n",
            "labels batch shape: (20,)\n"
          ],
          "name": "stdout"
        }
      ]
    },
    {
      "metadata": {
        "id": "GCPC8c_xNfNV",
        "colab_type": "code",
        "colab": {
          "base_uri": "https://localhost:8080/",
          "height": 1599
        },
        "outputId": "d4b4b024-9e66-4667-d6ba-0b83577297c5"
      },
      "cell_type": "code",
      "source": [
        "history = model.fit_generator(\n",
        "            train_generator,\n",
        "            steps_per_epoch=100,\n",
        "            epochs=30,\n",
        "            validation_data=validation_generator,\n",
        "            validation_steps=50)"
      ],
      "execution_count": 49,
      "outputs": [
        {
          "output_type": "stream",
          "text": [
            "WARNING:tensorflow:From /usr/local/lib/python3.6/dist-packages/tensorflow/python/ops/math_ops.py:3066: to_int32 (from tensorflow.python.ops.math_ops) is deprecated and will be removed in a future version.\n",
            "Instructions for updating:\n",
            "Use tf.cast instead.\n",
            "Epoch 1/30\n",
            "50/50 [==============================] - 4s 84ms/step - loss: 0.6767 - acc: 0.5400\n",
            "100/100 [==============================] - 15s 153ms/step - loss: 0.6921 - acc: 0.5145 - val_loss: 0.6767 - val_acc: 0.5400\n",
            "Epoch 2/30\n",
            "50/50 [==============================] - 4s 83ms/step - loss: 0.6411 - acc: 0.6570\n",
            "100/100 [==============================] - 12s 119ms/step - loss: 0.6695 - acc: 0.6080 - val_loss: 0.6411 - val_acc: 0.6570\n",
            "Epoch 3/30\n",
            "50/50 [==============================] - 4s 84ms/step - loss: 0.6230 - acc: 0.6530\n",
            "100/100 [==============================] - 12s 119ms/step - loss: 0.6238 - acc: 0.6520 - val_loss: 0.6230 - val_acc: 0.6530\n",
            "Epoch 4/30\n",
            "50/50 [==============================] - 4s 83ms/step - loss: 0.5868 - acc: 0.6900\n",
            "100/100 [==============================] - 12s 120ms/step - loss: 0.5819 - acc: 0.6995 - val_loss: 0.5868 - val_acc: 0.6900\n",
            "Epoch 5/30\n",
            "50/50 [==============================] - 4s 84ms/step - loss: 0.6513 - acc: 0.6660\n",
            "100/100 [==============================] - 12s 121ms/step - loss: 0.5357 - acc: 0.7265 - val_loss: 0.6513 - val_acc: 0.6660\n",
            "Epoch 6/30\n",
            "50/50 [==============================] - 4s 83ms/step - loss: 0.5607 - acc: 0.7000\n",
            "100/100 [==============================] - 12s 120ms/step - loss: 0.5226 - acc: 0.7295 - val_loss: 0.5607 - val_acc: 0.7000\n",
            "Epoch 7/30\n",
            "50/50 [==============================] - 4s 83ms/step - loss: 0.5609 - acc: 0.7080\n",
            "100/100 [==============================] - 12s 120ms/step - loss: 0.4792 - acc: 0.7685 - val_loss: 0.5609 - val_acc: 0.7080\n",
            "Epoch 8/30\n",
            "50/50 [==============================] - 4s 82ms/step - loss: 0.5790 - acc: 0.7070\n",
            "100/100 [==============================] - 12s 117ms/step - loss: 0.4637 - acc: 0.7830 - val_loss: 0.5790 - val_acc: 0.7070\n",
            "Epoch 9/30\n",
            "50/50 [==============================] - 4s 83ms/step - loss: 0.5630 - acc: 0.7170\n",
            "100/100 [==============================] - 12s 119ms/step - loss: 0.4432 - acc: 0.8000 - val_loss: 0.5630 - val_acc: 0.7170\n",
            "Epoch 10/30\n",
            "50/50 [==============================] - 4s 82ms/step - loss: 0.5474 - acc: 0.7210\n",
            "100/100 [==============================] - 12s 119ms/step - loss: 0.4155 - acc: 0.8095 - val_loss: 0.5474 - val_acc: 0.7210\n",
            "Epoch 11/30\n",
            "50/50 [==============================] - 4s 82ms/step - loss: 0.5680 - acc: 0.7170\n",
            "100/100 [==============================] - 12s 118ms/step - loss: 0.3960 - acc: 0.8255 - val_loss: 0.5680 - val_acc: 0.7170\n",
            "Epoch 12/30\n",
            "50/50 [==============================] - 4s 85ms/step - loss: 0.5569 - acc: 0.7380\n",
            "100/100 [==============================] - 12s 121ms/step - loss: 0.3628 - acc: 0.8405 - val_loss: 0.5569 - val_acc: 0.7380\n",
            "Epoch 13/30\n",
            "50/50 [==============================] - 4s 83ms/step - loss: 0.5687 - acc: 0.7310\n",
            "100/100 [==============================] - 12s 120ms/step - loss: 0.3488 - acc: 0.8505 - val_loss: 0.5687 - val_acc: 0.7310\n",
            "Epoch 14/30\n",
            "50/50 [==============================] - 4s 82ms/step - loss: 0.6292 - acc: 0.7200\n",
            "100/100 [==============================] - 12s 120ms/step - loss: 0.3277 - acc: 0.8615 - val_loss: 0.6292 - val_acc: 0.7200\n",
            "Epoch 15/30\n",
            "50/50 [==============================] - 4s 83ms/step - loss: 0.6029 - acc: 0.7230\n",
            "100/100 [==============================] - 12s 120ms/step - loss: 0.3108 - acc: 0.8700 - val_loss: 0.6029 - val_acc: 0.7230\n",
            "Epoch 16/30\n",
            "50/50 [==============================] - 4s 83ms/step - loss: 0.5658 - acc: 0.7350\n",
            "100/100 [==============================] - 12s 120ms/step - loss: 0.2840 - acc: 0.8780 - val_loss: 0.5658 - val_acc: 0.7350\n",
            "Epoch 17/30\n",
            "50/50 [==============================] - 4s 84ms/step - loss: 0.6155 - acc: 0.7390\n",
            "100/100 [==============================] - 12s 119ms/step - loss: 0.2670 - acc: 0.8940 - val_loss: 0.6155 - val_acc: 0.7390\n",
            "Epoch 18/30\n",
            "50/50 [==============================] - 4s 83ms/step - loss: 0.5925 - acc: 0.7320\n",
            "100/100 [==============================] - 12s 121ms/step - loss: 0.2450 - acc: 0.9000 - val_loss: 0.5925 - val_acc: 0.7320\n",
            "Epoch 19/30\n",
            "50/50 [==============================] - 4s 83ms/step - loss: 0.6211 - acc: 0.7370\n",
            "100/100 [==============================] - 12s 120ms/step - loss: 0.2295 - acc: 0.9110 - val_loss: 0.6211 - val_acc: 0.7370\n",
            "Epoch 20/30\n",
            "50/50 [==============================] - 4s 83ms/step - loss: 0.7327 - acc: 0.7090\n",
            "100/100 [==============================] - 12s 120ms/step - loss: 0.2047 - acc: 0.9210 - val_loss: 0.7327 - val_acc: 0.7090\n",
            "Epoch 21/30\n",
            "50/50 [==============================] - 4s 85ms/step - loss: 0.7549 - acc: 0.7020\n",
            "100/100 [==============================] - 12s 121ms/step - loss: 0.1817 - acc: 0.9330 - val_loss: 0.7549 - val_acc: 0.7020\n",
            "Epoch 22/30\n",
            "50/50 [==============================] - 4s 83ms/step - loss: 0.7203 - acc: 0.7180\n",
            "100/100 [==============================] - 12s 120ms/step - loss: 0.1696 - acc: 0.9335 - val_loss: 0.7203 - val_acc: 0.7180\n",
            "Epoch 23/30\n",
            "50/50 [==============================] - 4s 84ms/step - loss: 0.7079 - acc: 0.7250\n",
            "100/100 [==============================] - 12s 120ms/step - loss: 0.1585 - acc: 0.9420 - val_loss: 0.7079 - val_acc: 0.7250\n",
            "Epoch 24/30\n",
            "50/50 [==============================] - 4s 82ms/step - loss: 0.6937 - acc: 0.7360\n",
            "100/100 [==============================] - 12s 120ms/step - loss: 0.1334 - acc: 0.9540 - val_loss: 0.6937 - val_acc: 0.7360\n",
            "Epoch 25/30\n",
            "50/50 [==============================] - 4s 83ms/step - loss: 0.7490 - acc: 0.7310\n",
            "100/100 [==============================] - 12s 120ms/step - loss: 0.1195 - acc: 0.9570 - val_loss: 0.7490 - val_acc: 0.7310\n",
            "Epoch 26/30\n",
            "50/50 [==============================] - 4s 84ms/step - loss: 0.7732 - acc: 0.7290\n",
            "100/100 [==============================] - 12s 120ms/step - loss: 0.1040 - acc: 0.9665 - val_loss: 0.7732 - val_acc: 0.7290\n",
            "Epoch 27/30\n",
            "50/50 [==============================] - 4s 83ms/step - loss: 0.9397 - acc: 0.7010\n",
            "100/100 [==============================] - 12s 120ms/step - loss: 0.0911 - acc: 0.9660 - val_loss: 0.9397 - val_acc: 0.7010\n",
            "Epoch 28/30\n",
            "50/50 [==============================] - 4s 83ms/step - loss: 0.8617 - acc: 0.7250\n",
            "100/100 [==============================] - 12s 119ms/step - loss: 0.0791 - acc: 0.9780 - val_loss: 0.8617 - val_acc: 0.7250\n",
            "Epoch 29/30\n",
            "50/50 [==============================] - 4s 82ms/step - loss: 0.9161 - acc: 0.7210\n",
            "100/100 [==============================] - 12s 120ms/step - loss: 0.0720 - acc: 0.9760 - val_loss: 0.9161 - val_acc: 0.7210\n",
            "Epoch 30/30\n",
            "50/50 [==============================] - 4s 83ms/step - loss: 1.0392 - acc: 0.7140\n",
            "100/100 [==============================] - 12s 121ms/step - loss: 0.0579 - acc: 0.9845 - val_loss: 1.0392 - val_acc: 0.7140\n"
          ],
          "name": "stdout"
        }
      ]
    },
    {
      "metadata": {
        "id": "NaE954MHS3PX",
        "colab_type": "code",
        "colab": {}
      },
      "cell_type": "code",
      "source": [
        "model.save(\"cats_and_dogs_small_1.h5\")"
      ],
      "execution_count": 0,
      "outputs": []
    },
    {
      "metadata": {
        "id": "IwKtcvZNTbRT",
        "colab_type": "text"
      },
      "cell_type": "markdown",
      "source": [
        "## ploting the result"
      ]
    },
    {
      "metadata": {
        "id": "fu7KKSmRThi3",
        "colab_type": "code",
        "colab": {}
      },
      "cell_type": "code",
      "source": [
        "import matplotlib.pyplot as plt"
      ],
      "execution_count": 0,
      "outputs": []
    },
    {
      "metadata": {
        "id": "idx21mCTTm46",
        "colab_type": "code",
        "colab": {}
      },
      "cell_type": "code",
      "source": [
        "acc = history.history[\"acc\"]\n",
        "val_acc = history.history[\"val_acc\"]\n",
        "loss = history.history[\"loss\"]\n",
        "val_loss = history.history[\"val_loss\"]\n",
        "\n",
        "epochs = range(1,len(acc) + 1)"
      ],
      "execution_count": 0,
      "outputs": []
    },
    {
      "metadata": {
        "id": "DpzFCUV_UBjH",
        "colab_type": "code",
        "colab": {
          "base_uri": "https://localhost:8080/",
          "height": 378
        },
        "outputId": "02635ff8-82a0-40f1-a66e-e57d4aaa548d"
      },
      "cell_type": "code",
      "source": [
        "plt.plot(epochs,acc,\"bo\",label=\"Training acc\")\n",
        "plt.plot(epochs,val_acc,\"b\",label=\"Validation acc\")\n",
        "plt.title(\"Training and validation accuracy\")\n",
        "plt.legend()"
      ],
      "execution_count": 56,
      "outputs": [
        {
          "output_type": "execute_result",
          "data": {
            "text/plain": [
              "<matplotlib.legend.Legend at 0x7f040551d4a8>"
            ]
          },
          "metadata": {
            "tags": []
          },
          "execution_count": 56
        },
        {
          "output_type": "display_data",
          "data": {
            "image/png": "[encoded data removed]",
            "text/plain": [
              "<Figure size 576x396 with 1 Axes>"
            ]
          },
          "metadata": {
            "tags": []
          }
        }
      ]
    },
    {
      "metadata": {
        "id": "NeIgmXBZUkaY",
        "colab_type": "code",
        "colab": {
          "base_uri": "https://localhost:8080/",
          "height": 50
        },
        "outputId": "5fb60f6d-f8ab-43fc-9f46-3f4ff24acdbf"
      },
      "cell_type": "code",
      "source": [
        "plt.figure()"
      ],
      "execution_count": 57,
      "outputs": [
        {
          "output_type": "execute_result",
          "data": {
            "text/plain": [
              "<Figure size 576x396 with 0 Axes>"
            ]
          },
          "metadata": {
            "tags": []
          },
          "execution_count": 57
        },
        {
          "output_type": "display_data",
          "data": {
            "text/plain": [
              "<Figure size 576x396 with 0 Axes>"
            ]
          },
          "metadata": {
            "tags": []
          }
        }
      ]
    },
    {
      "metadata": {
        "id": "p4-9NGnXUpqz",
        "colab_type": "code",
        "colab": {
          "base_uri": "https://localhost:8080/",
          "height": 362
        },
        "outputId": "36ad34ea-ea77-4fe1-ad5f-69798652f12b"
      },
      "cell_type": "code",
      "source": [
        "plt.plot(epochs,loss,\"bo\",label=\"Training loss\")\n",
        "plt.plot(epochs,val_loss,\"b\",label=\"Validation loss\")\n",
        "plt.title(\"Training and validation loss\")\n",
        "plt.legend()\n",
        "\n",
        "plt.show()"
      ],
      "execution_count": 58,
      "outputs": [
        {
          "output_type": "display_data",
          "data": {
            "image/png": "[encoded data removed]",
            "text/plain": [
              "<Figure size 576x396 with 1 Axes>"
            ]
          },
          "metadata": {
            "tags": []
          }
        }
      ]
    },
    {
      "metadata": {
        "id": "sDF477YeU4Fl",
        "colab_type": "code",
        "colab": {
          "base_uri": "https://localhost:8080/",
          "height": 121
        },
        "outputId": "35442b1f-74c2-4720-fe6e-cc9c2bf814db"
      },
      "cell_type": "code",
      "source": [
        "from google.colab import drive\n",
        "drive.mount('/content/gdrive')"
      ],
      "execution_count": 59,
      "outputs": [
        {
          "output_type": "stream",
          "text": [
            "Go to this URL in a browser: https://accounts.google.com/o/oauth2/auth?client_id=947318989803-6bn6qk8qdgf4n4g3pfee6491hc0brc4i.apps.googleusercontent.com&redirect_uri=urn%3Aietf%3Awg%3Aoauth%3A2.0%3Aoob&scope=email%20https%3A%2F%2Fwww.googleapis.com%2Fauth%2Fdocs.test%20https%3A%2F%2Fwww.googleapis.com%2Fauth%2Fdrive%20https%3A%2F%2Fwww.googleapis.com%2Fauth%2Fdrive.photos.readonly%20https%3A%2F%2Fwww.googleapis.com%2Fauth%2Fpeopleapi.readonly&response_type=code\n",
            "\n",
            "Enter your authorization code:\n",
            "··········\n",
            "Mounted at /content/gdrive\n"
          ],
          "name": "stdout"
        }
      ]
    },
    {
      "metadata": {
        "id": "FvSkvqvwhDLr",
        "colab_type": "text"
      },
      "cell_type": "markdown",
      "source": [
        "##  Transferring files between Google Colab and Google Drive"
      ]
    },
    {
      "metadata": {
        "id": "ol6Ukyy8ecGp",
        "colab_type": "code",
        "colab": {
          "base_uri": "https://localhost:8080/",
          "height": 84
        },
        "outputId": "5fc7561b-5a4d-4c63-bd33-f691ec3fcd20"
      },
      "cell_type": "code",
      "source": [
        "!git clone https://gist.github.com/dc7e60aa487430ea704a8cb3f2c5d6a6.git /tmp/colab_util_repo\n",
        "!mv /tmp/colab_util_repo/colab_util.py colab_util.py \n",
        "!rm -r /tmp/colab_util_repo"
      ],
      "execution_count": 65,
      "outputs": [
        {
          "output_type": "stream",
          "text": [
            "Cloning into '/tmp/colab_util_repo'...\n",
            "remote: Enumerating objects: 40, done.\u001b[K\n",
            "remote: Total 40 (delta 0), reused 0 (delta 0), pack-reused 40\u001b[K\n",
            "Unpacking objects: 100% (40/40), done.\n"
          ],
          "name": "stdout"
        }
      ]
    },
    {
      "metadata": {
        "id": "TWUWlHPceq4p",
        "colab_type": "code",
        "colab": {
          "base_uri": "https://localhost:8080/",
          "height": 222
        },
        "outputId": "1ca3546a-fafe-4848-d162-dc690f735b34"
      },
      "cell_type": "code",
      "source": [
        "!apt-get install -y -qq software-properties-common python-software-properties module-init-tools\n",
        "!add-apt-repository -y ppa:alessandro-strada/ppa 2>&1 > /dev/null\n",
        "!apt-get update -qq 2>&1 > /dev/null\n",
        "!apt-get -y install -qq google-drive-ocamlfuse fuse\n",
        "from google.colab import auth\n",
        "auth.authenticate_user()\n",
        "from oauth2client.client import GoogleCredentials\n",
        "creds = GoogleCredentials.get_application_default()\n",
        "import getpass\n",
        "!google-drive-ocamlfuse -headless -id={creds.client_id} -secret={creds.client_secret} < /dev/null 2>&1 | grep URL\n",
        "vcode = getpass.getpass()\n",
        "!echo {vcode} | google-drive-ocamlfuse -headless -id={creds.client_id} -secret={creds.client_secret}"
      ],
      "execution_count": 67,
      "outputs": [
        {
          "output_type": "stream",
          "text": [
            "E: Package 'python-software-properties' has no installation candidate\n",
            "Selecting previously unselected package google-drive-ocamlfuse.\n",
            "(Reading database ... 131352 files and directories currently installed.)\n",
            "Preparing to unpack .../google-drive-ocamlfuse_0.7.1-0ubuntu3~ubuntu18.04.1_amd64.deb ...\n",
            "Unpacking google-drive-ocamlfuse (0.7.1-0ubuntu3~ubuntu18.04.1) ...\n",
            "Setting up google-drive-ocamlfuse (0.7.1-0ubuntu3~ubuntu18.04.1) ...\n",
            "Processing triggers for man-db (2.8.3-2ubuntu0.1) ...\n",
            "Please, open the following URL in a web browser: https://accounts.google.com/o/oauth2/auth?client_id=32555940559.apps.googleusercontent.com&redirect_uri=urn%3Aietf%3Awg%3Aoauth%3A2.0%3Aoob&scope=https%3A%2F%2Fwww.googleapis.com%2Fauth%2Fdrive&response_type=code&access_type=offline&approval_prompt=force\n",
            "··········\n",
            "Please, open the following URL in a web browser: https://accounts.google.com/o/oauth2/auth?client_id=32555940559.apps.googleusercontent.com&redirect_uri=urn%3Aietf%3Awg%3Aoauth%3A2.0%3Aoob&scope=https%3A%2F%2Fwww.googleapis.com%2Fauth%2Fdrive&response_type=code&access_type=offline&approval_prompt=force\n",
            "Please enter the verification code: Access token retrieved correctly.\n"
          ],
          "name": "stdout"
        }
      ]
    },
    {
      "metadata": {
        "id": "1o5U5fngfIc5",
        "colab_type": "code",
        "colab": {
          "base_uri": "https://localhost:8080/",
          "height": 50
        },
        "outputId": "739974af-dc78-47c9-b02a-387c32ca3735"
      },
      "cell_type": "code",
      "source": [
        "!pip install -U -q PyDrive"
      ],
      "execution_count": 69,
      "outputs": [
        {
          "output_type": "stream",
          "text": [
            "\u001b[?25l\r\u001b[K    1% |▎                               | 10kB 20.1MB/s eta 0:00:01\r\u001b[K    2% |▋                               | 20kB 4.9MB/s eta 0:00:01\r\u001b[K    3% |█                               | 30kB 6.9MB/s eta 0:00:01\r\u001b[K    4% |█▎                              | 40kB 4.4MB/s eta 0:00:01\r\u001b[K    5% |█▋                              | 51kB 5.4MB/s eta 0:00:01\r\u001b[K    6% |██                              | 61kB 6.3MB/s eta 0:00:01\r\u001b[K    7% |██▎                             | 71kB 6.8MB/s eta 0:00:01\r\u001b[K    8% |██▋                             | 81kB 7.5MB/s eta 0:00:01\r\u001b[K    9% |███                             | 92kB 8.3MB/s eta 0:00:01\r\u001b[K    10% |███▎                            | 102kB 7.1MB/s eta 0:00:01\r\u001b[K    11% |███▋                            | 112kB 7.2MB/s eta 0:00:01\r\u001b[K    12% |████                            | 122kB 9.5MB/s eta 0:00:01\r\u001b[K    13% |████▎                           | 133kB 9.4MB/s eta 0:00:01\r\u001b[K    14% |████▋                           | 143kB 16.7MB/s eta 0:00:01\r\u001b[K    15% |█████                           | 153kB 16.0MB/s eta 0:00:01\r\u001b[K    16% |█████▎                          | 163kB 16.0MB/s eta 0:00:01\r\u001b[K    17% |█████▋                          | 174kB 17.2MB/s eta 0:00:01\r\u001b[K    18% |██████                          | 184kB 17.9MB/s eta 0:00:01\r\u001b[K    19% |██████▎                         | 194kB 18.1MB/s eta 0:00:01\r\u001b[K    20% |██████▋                         | 204kB 37.7MB/s eta 0:00:01\r\u001b[K    21% |███████                         | 215kB 21.0MB/s eta 0:00:01\r\u001b[K    22% |███████▎                        | 225kB 21.1MB/s eta 0:00:01\r\u001b[K    23% |███████▋                        | 235kB 21.8MB/s eta 0:00:01\r\u001b[K    24% |████████                        | 245kB 21.6MB/s eta 0:00:01\r\u001b[K    25% |████████▎                       | 256kB 22.9MB/s eta 0:00:01\r\u001b[K    26% |████████▋                       | 266kB 21.9MB/s eta 0:00:01\r\u001b[K    27% |█████████                       | 276kB 22.5MB/s eta 0:00:01\r\u001b[K    29% |█████████▎                      | 286kB 21.9MB/s eta 0:00:01\r\u001b[K    30% |█████████▋                      | 296kB 21.7MB/s eta 0:00:01\r\u001b[K    31% |██████████                      | 307kB 23.0MB/s eta 0:00:01\r\u001b[K    32% |██████████▎                     | 317kB 46.9MB/s eta 0:00:01\r\u001b[K    33% |██████████▋                     | 327kB 46.7MB/s eta 0:00:01\r\u001b[K    34% |███████████                     | 337kB 47.0MB/s eta 0:00:01\r\u001b[K    35% |███████████▎                    | 348kB 42.6MB/s eta 0:00:01\r\u001b[K    36% |███████████▋                    | 358kB 42.9MB/s eta 0:00:01\r\u001b[K    37% |████████████                    | 368kB 47.3MB/s eta 0:00:01\r\u001b[K    38% |████████████▎                   | 378kB 46.8MB/s eta 0:00:01\r\u001b[K    39% |████████████▋                   | 389kB 49.1MB/s eta 0:00:01\r\u001b[K    40% |█████████████                   | 399kB 49.7MB/s eta 0:00:01\r\u001b[K    41% |█████████████▎                  | 409kB 48.4MB/s eta 0:00:01\r\u001b[K    42% |█████████████▋                  | 419kB 48.6MB/s eta 0:00:01\r\u001b[K    43% |██████████████                  | 430kB 48.8MB/s eta 0:00:01\r\u001b[K    44% |██████████████▎                 | 440kB 48.5MB/s eta 0:00:01\r\u001b[K    45% |██████████████▋                 | 450kB 46.6MB/s eta 0:00:01\r\u001b[K    46% |███████████████                 | 460kB 46.2MB/s eta 0:00:01\r\u001b[K    47% |███████████████▎                | 471kB 45.1MB/s eta 0:00:01\r\u001b[K    48% |███████████████▋                | 481kB 44.7MB/s eta 0:00:01\r\u001b[K    49% |████████████████                | 491kB 45.3MB/s eta 0:00:01\r\u001b[K    50% |████████████████▎               | 501kB 45.9MB/s eta 0:00:01\r\u001b[K    51% |████████████████▋               | 512kB 44.3MB/s eta 0:00:01\r\u001b[K    52% |█████████████████               | 522kB 44.1MB/s eta 0:00:01\r\u001b[K    53% |█████████████████▎              | 532kB 42.5MB/s eta 0:00:01\r\u001b[K    54% |█████████████████▋              | 542kB 42.9MB/s eta 0:00:01\r\u001b[K    55% |██████████████████              | 552kB 50.7MB/s eta 0:00:01\r\u001b[K    57% |██████████████████▎             | 563kB 50.9MB/s eta 0:00:01\r\u001b[K    58% |██████████████████▋             | 573kB 49.1MB/s eta 0:00:01\r\u001b[K    59% |███████████████████             | 583kB 48.7MB/s eta 0:00:01\r\u001b[K    60% |███████████████████▎            | 593kB 47.9MB/s eta 0:00:01\r\u001b[K    61% |███████████████████▋            | 604kB 47.7MB/s eta 0:00:01\r\u001b[K    62% |████████████████████            | 614kB 50.7MB/s eta 0:00:01\r\u001b[K    63% |████████████████████▎           | 624kB 49.5MB/s eta 0:00:01\r\u001b[K    64% |████████████████████▋           | 634kB 51.1MB/s eta 0:00:01\r\u001b[K    65% |█████████████████████           | 645kB 50.0MB/s eta 0:00:01\r\u001b[K    66% |█████████████████████▎          | 655kB 48.6MB/s eta 0:00:01\r\u001b[K    67% |█████████████████████▋          | 665kB 38.8MB/s eta 0:00:01\r\u001b[K    68% |██████████████████████          | 675kB 40.0MB/s eta 0:00:01\r\u001b[K    69% |██████████████████████▎         | 686kB 41.0MB/s eta 0:00:01\r\u001b[K    70% |██████████████████████▋         | 696kB 41.4MB/s eta 0:00:01\r\u001b[K    71% |███████████████████████         | 706kB 40.5MB/s eta 0:00:01\r\u001b[K    72% |███████████████████████▎        | 716kB 38.4MB/s eta 0:00:01\r\u001b[K    73% |███████████████████████▋        | 727kB 38.6MB/s eta 0:00:01\r\u001b[K    74% |████████████████████████        | 737kB 38.6MB/s eta 0:00:01\r\u001b[K    75% |████████████████████████▎       | 747kB 39.1MB/s eta 0:00:01\r\u001b[K    76% |████████████████████████▋       | 757kB 39.6MB/s eta 0:00:01\r\u001b[K    77% |████████████████████████▉       | 768kB 49.6MB/s eta 0:00:01\r\u001b[K    78% |█████████████████████████▏      | 778kB 49.6MB/s eta 0:00:01\r\u001b[K    79% |█████████████████████████▌      | 788kB 47.8MB/s eta 0:00:01\r\u001b[K    80% |█████████████████████████▉      | 798kB 47.2MB/s eta 0:00:01\r\u001b[K    81% |██████████████████████████▏     | 808kB 48.3MB/s eta 0:00:01\r\u001b[K    82% |██████████████████████████▌     | 819kB 51.3MB/s eta 0:00:01\r\u001b[K    83% |██████████████████████████▉     | 829kB 52.1MB/s eta 0:00:01\r\u001b[K    85% |███████████████████████████▏    | 839kB 51.3MB/s eta 0:00:01\r\u001b[K    86% |███████████████████████████▌    | 849kB 51.4MB/s eta 0:00:01\r\u001b[K    87% |███████████████████████████▉    | 860kB 47.7MB/s eta 0:00:01\r\u001b[K    88% |████████████████████████████▏   | 870kB 48.4MB/s eta 0:00:01\r\u001b[K    89% |████████████████████████████▌   | 880kB 49.5MB/s eta 0:00:01\r\u001b[K    90% |████████████████████████████▉   | 890kB 51.1MB/s eta 0:00:01\r\u001b[K    91% |█████████████████████████████▏  | 901kB 51.1MB/s eta 0:00:01\r\u001b[K    92% |█████████████████████████████▌  | 911kB 50.7MB/s eta 0:00:01\r\u001b[K    93% |█████████████████████████████▉  | 921kB 50.6MB/s eta 0:00:01\r\u001b[K    94% |██████████████████████████████▏ | 931kB 49.8MB/s eta 0:00:01\r\u001b[K    95% |██████████████████████████████▌ | 942kB 49.6MB/s eta 0:00:01\r\u001b[K    96% |██████████████████████████████▉ | 952kB 49.6MB/s eta 0:00:01\r\u001b[K    97% |███████████████████████████████▏| 962kB 54.3MB/s eta 0:00:01\r\u001b[K    98% |███████████████████████████████▌| 972kB 54.5MB/s eta 0:00:01\r\u001b[K    99% |███████████████████████████████▉| 983kB 54.6MB/s eta 0:00:01\r\u001b[K    100% |████████████████████████████████| 993kB 20.7MB/s \n",
            "\u001b[?25h  Building wheel for PyDrive (setup.py) ... \u001b[?25ldone\n",
            "\u001b[?25h"
          ],
          "name": "stdout"
        }
      ]
    },
    {
      "metadata": {
        "id": "2OmG73W3ejD-",
        "colab_type": "code",
        "colab": {}
      },
      "cell_type": "code",
      "source": [
        "from colab_util import *\n",
        "drive_handler = GoogleDriveHandler()"
      ],
      "execution_count": 0,
      "outputs": []
    },
    {
      "metadata": {
        "id": "5uvQRlTygBtw",
        "colab_type": "code",
        "colab": {
          "base_uri": "https://localhost:8080/",
          "height": 34
        },
        "outputId": "3fa52e43-4623-4096-965f-3da22a8fbc97"
      },
      "cell_type": "code",
      "source": [
        "\n",
        "test_folder_id = drive_handler.create_folder('test_folder')\n",
        "test_folder_id"
      ],
      "execution_count": 71,
      "outputs": [
        {
          "output_type": "execute_result",
          "data": {
            "text/plain": [
              "'1svt-fpufFuEQhtYs_LbKYRo_1SgLsAXI'"
            ]
          },
          "metadata": {
            "tags": []
          },
          "execution_count": 71
        }
      ]
    },
    {
      "metadata": {
        "id": "JPAcb75TgW8m",
        "colab_type": "code",
        "colab": {
          "base_uri": "https://localhost:8080/",
          "height": 84
        },
        "outputId": "299ac9ac-475a-452e-f598-6061175df103"
      },
      "cell_type": "code",
      "source": [
        "drive_handler.upload(\"cats_and_dogs_small_1.h5\", parent_path='test_folder')\n",
        "drive_handler.list_folder('1svt-fpufFuEQhtYs_LbKYRo_1SgLsAXI', max_depth=1)"
      ],
      "execution_count": 73,
      "outputs": [
        {
          "output_type": "execute_result",
          "data": {
            "text/plain": [
              "[{'id': '1TVpgrHMeUmGJpy1w6DsjcXxDeLr3ZIFv',\n",
              "  'link': 'https://drive.google.com/file/d/1TVpgrHMeUmGJpy1w6DsjcXxDeLr3ZIFv/view?usp=drivesdk',\n",
              "  'mimeType': 'application/octet-stream',\n",
              "  'title': 'cats_and_dogs_small_1.h5'}]"
            ]
          },
          "metadata": {
            "tags": []
          },
          "execution_count": 73
        }
      ]
    }
  ]
}